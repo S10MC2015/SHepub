{
  "nbformat": 4,
  "nbformat_minor": 0,
  "metadata": {
    "colab": {
      "name": "shepub.ipynb",
      "provenance": [],
      "collapsed_sections": [],
      "authorship_tag": "ABX9TyOtUH+y2UuRtnHVurdsBpRQ"
    },
    "kernelspec": {
      "name": "python3",
      "display_name": "Python 3"
    }
  },
  "cells": [
    {
      "cell_type": "code",
      "metadata": {
        "id": "sUWEBNSlzrUp",
        "colab_type": "code",
        "colab": {}
      },
      "source": [
        "!wget https://raw.githubusercontent.com/S10MC2015/SHepub/master/requirements.txt"
      ],
      "execution_count": null,
      "outputs": []
    },
    {
      "cell_type": "code",
      "metadata": {
        "id": "GV7mj57Iz3If",
        "colab_type": "code",
        "colab": {}
      },
      "source": [
        "%pip install -r requirements.txt"
      ],
      "execution_count": null,
      "outputs": []
    },
    {
      "cell_type": "code",
      "metadata": {
        "id": "fDE75SOxz-nl",
        "colab_type": "code",
        "colab": {}
      },
      "source": [
        "!wget https://raw.githubusercontent.com/S10MC2015/SHepub/master/shepubmain.py"
      ],
      "execution_count": null,
      "outputs": []
    },
    {
      "cell_type": "code",
      "metadata": {
        "id": "h5vMhopt0H0S",
        "colab_type": "code",
        "colab": {}
      },
      "source": [
        "!python shepubmain.py"
      ],
      "execution_count": null,
      "outputs": []
    }
  ]
}